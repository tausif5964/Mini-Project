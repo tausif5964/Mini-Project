{
 "cells": [
  {
   "cell_type": "markdown",
   "id": "cb82c3e3",
   "metadata": {},
   "source": [
    "# Insatlling all the necessary libraries"
   ]
  },
  {
   "cell_type": "code",
   "execution_count": null,
   "id": "939e31b7",
   "metadata": {},
   "outputs": [],
   "source": [
    "pip install subprocess32"
   ]
  },
  {
   "cell_type": "code",
   "execution_count": null,
   "id": "5fef791f",
   "metadata": {},
   "outputs": [],
   "source": [
    "pip install SpeechRecognition"
   ]
  },
  {
   "cell_type": "code",
   "execution_count": null,
   "id": "f6729394",
   "metadata": {},
   "outputs": [],
   "source": [
    "pip install Py-OS"
   ]
  },
  {
   "cell_type": "code",
   "execution_count": null,
   "id": "646bbed9",
   "metadata": {},
   "outputs": [],
   "source": [
    "pip install wolframalpha"
   ]
  },
  {
   "cell_type": "code",
   "execution_count": null,
   "id": "db364c13",
   "metadata": {},
   "outputs": [],
   "source": [
    "pip install pyttsx3"
   ]
  },
  {
   "cell_type": "code",
   "execution_count": null,
   "id": "7add73d6",
   "metadata": {},
   "outputs": [],
   "source": [
    "pip install wikipedia"
   ]
  },
  {
   "cell_type": "code",
   "execution_count": null,
   "id": "f91014d2",
   "metadata": {},
   "outputs": [],
   "source": [
    "pip install DateTime"
   ]
  },
  {
   "cell_type": "code",
   "execution_count": null,
   "id": "8eaf5c9e",
   "metadata": {},
   "outputs": [],
   "source": [
    "pip install web-browser"
   ]
  },
  {
   "cell_type": "code",
   "execution_count": null,
   "id": "c8f9db72",
   "metadata": {},
   "outputs": [],
   "source": [
    "pip install requests"
   ]
  },
  {
   "cell_type": "code",
   "execution_count": null,
   "id": "bb660a43",
   "metadata": {},
   "outputs": [],
   "source": [
    "pip install pywhatkit"
   ]
  },
  {
   "cell_type": "code",
   "execution_count": null,
   "id": "1cfcbc80",
   "metadata": {},
   "outputs": [],
   "source": [
    "pip install beautifulsoup4"
   ]
  },
  {
   "cell_type": "code",
   "execution_count": null,
   "id": "c77dfa8a",
   "metadata": {},
   "outputs": [],
   "source": [
    "pip install ecapture"
   ]
  },
  {
   "cell_type": "code",
   "execution_count": null,
   "id": "9a461d1a",
   "metadata": {},
   "outputs": [],
   "source": [
    "pip install pyttsx3"
   ]
  },
  {
   "cell_type": "code",
   "execution_count": null,
   "id": "1064b885",
   "metadata": {},
   "outputs": [],
   "source": [
    "pip install PyAudio"
   ]
  },
  {
   "cell_type": "code",
   "execution_count": null,
   "id": "04e5b79c",
   "metadata": {},
   "outputs": [],
   "source": [
    "pip install transformers"
   ]
  },
  {
   "cell_type": "code",
   "execution_count": null,
   "id": "43c6b6df",
   "metadata": {},
   "outputs": [],
   "source": [
    "pip install newspaper3k"
   ]
  },
  {
   "cell_type": "markdown",
   "id": "c1e0d9b4",
   "metadata": {},
   "source": [
    "# Importing the libraries"
   ]
  },
  {
   "cell_type": "code",
   "execution_count": null,
   "id": "a0fdc9bc",
   "metadata": {},
   "outputs": [],
   "source": [
    "import os\n",
    "import pyaudio\n",
    "import subprocess32\n",
    "import pyttsx3\n",
    "import speech_recognition as sr\n",
    "import pywhatkit\n",
    "import datetime\n",
    "import time\n",
    "import wikipedia\n",
    "import webbrowser\n",
    "import requests\n",
    "import ecapture as ec\n",
    "from bs4 import BeautifulSoup\n",
    "import ctypes\n",
    "from transformers import T5ForConditionalGeneration, T5Tokenizer, BertTokenizer, pipeline"
   ]
  },
  {
   "cell_type": "markdown",
   "id": "36b0084b",
   "metadata": {},
   "source": [
    "# Importing Natural Language Tool Kit  and Randon Library \n",
    "we import 'nltk' library for natural language procesing  \n",
    "and importing 'random' library for selecting rondom movie name from the crated list"
   ]
  },
  {
   "cell_type": "code",
   "execution_count": null,
   "id": "9e7e8965",
   "metadata": {},
   "outputs": [],
   "source": [
    "import nltk\n",
    "from nltk.sentiment import SentimentIntensityAnalyzer\n",
    "import random\n",
    "\n",
    "nltk.download('vader_lexicon')"
   ]
  },
  {
   "cell_type": "markdown",
   "id": "e675829e",
   "metadata": {},
   "source": [
    "we set a female voice for an assisant to communicate with user using *pyttsx3* library"
   ]
  },
  {
   "cell_type": "code",
   "execution_count": null,
   "id": "85c4d745",
   "metadata": {},
   "outputs": [],
   "source": [
    "engine = pyttsx3.init('sapi5')\n",
    "voices = engine.getProperty('voices')\n",
    "engine.setProperty('voice', voices[1].id)\n",
    "\n",
    "engine.setProperty('rate', 200)\n",
    "# Set volume 0-1\n",
    "engine.setProperty('volume', 1)"
   ]
  },
  {
   "cell_type": "markdown",
   "id": "791a45b1",
   "metadata": {},
   "source": [
    " adding a Audio in *speak* variable"
   ]
  },
  {
   "cell_type": "code",
   "execution_count": null,
   "id": "aa3cbc94",
   "metadata": {},
   "outputs": [],
   "source": [
    "def speak(audio):\n",
    "    engine.say(audio)\n",
    "    engine.runAndWait()"
   ]
  },
  {
   "cell_type": "markdown",
   "id": "b29e576f",
   "metadata": {},
   "source": [
    "# Summary generation and Question answering "
   ]
  },
  {
   "cell_type": "code",
   "execution_count": null,
   "id": "7b6f8d35",
   "metadata": {},
   "outputs": [],
   "source": [
    "# Initialize summarization model\n",
    "tokenizer_sum = T5Tokenizer.from_pretrained('t5-base')\n",
    "model_sum = T5ForConditionalGeneration.from_pretrained('t5-base')\n",
    "\n",
    "# Initialize question answering model\n",
    "tokenizer_qa = BertTokenizer.from_pretrained('bert-base-uncased')\n",
    "question_answerer = pipeline(\"question-answering\", model=\"bert-large-uncased-whole-word-masking-finetuned-squad\")\n",
    "\n",
    "def generate_summary(results):\n",
    "    input_ids = tokenizer_sum.encode(\"summarize: \" + results, return_tensors=\"pt\", max_length=1024, truncation=True)\n",
    "    summary_ids = model_sum.generate(input_ids, max_length=150, min_length=40, length_penalty=2.0, num_beams=4, early_stopping=True)\n",
    "    summary = tokenizer_sum.decode(summary_ids[0], skip_special_tokens=True)\n",
    "    return summary\n",
    "\n",
    "def answer_question(question, context):\n",
    "    answer = question_answerer(question=question, context=context)\n",
    "    return answer[\"answer\"]"
   ]
  },
  {
   "cell_type": "markdown",
   "id": "f30f4fba",
   "metadata": {},
   "source": [
    "# Defining WishMe function"
   ]
  },
  {
   "cell_type": "code",
   "execution_count": null,
   "id": "fc409235",
   "metadata": {},
   "outputs": [],
   "source": [
    "def wishMe():\n",
    "    hour = int(datetime.datetime.now().hour)\n",
    "    if hour >= 0 and hour < 12:\n",
    "        speak(\"Good Morning !\")\n",
    "\n",
    "    elif hour >= 12 and hour < 18:\n",
    "        speak(\"Good Afternoon !\")\n",
    "\n",
    "    else:\n",
    "        speak(\"Good Evening!\")\n",
    "\n",
    "    asname = (\"zahra\")\n",
    "    speak(\"I am your Assistant\")\n",
    "    speak(asname)"
   ]
  },
  {
   "cell_type": "markdown",
   "id": "85a87a1e",
   "metadata": {},
   "source": [
    "# defining Username function to store username in the code tempararily"
   ]
  },
  {
   "cell_type": "code",
   "execution_count": null,
   "id": "735c3ad3",
   "metadata": {},
   "outputs": [],
   "source": [
    "def username():\n",
    "    global uname\n",
    "    speak(\"What should i call you Dear\")\n",
    "    uname = takeCommand()\n",
    "    speak(\"Welcome Dear\")\n",
    "    speak(uname)\n",
    "    speak(\"How can i Help you\")"
   ]
  },
  {
   "cell_type": "markdown",
   "id": "dfb2686d",
   "metadata": {},
   "source": [
    "# importing pandas library to handle movies dataset"
   ]
  },
  {
   "cell_type": "code",
   "execution_count": null,
   "id": "02e9fa32",
   "metadata": {},
   "outputs": [],
   "source": [
    "import pandas as pd"
   ]
  },
  {
   "cell_type": "code",
   "execution_count": null,
   "id": "829ade97",
   "metadata": {},
   "outputs": [],
   "source": [
    "movies_df = pd.read_csv('movies.csv')\n"
   ]
  },
  {
   "cell_type": "markdown",
   "id": "4e5617f2",
   "metadata": {},
   "source": [
    "# performing sentiment analysis to check the user mood is posiive, negative or neutral"
   ]
  },
  {
   "cell_type": "code",
   "execution_count": null,
   "id": "fc011ffe",
   "metadata": {},
   "outputs": [],
   "source": [
    "# Define sentiment analysis function\n",
    "def perform_sentiment_analysis(text):\n",
    "    sia = SentimentIntensityAnalyzer()\n",
    "    sentiment_score = sia.polarity_scores(text)['compound']\n",
    "\n",
    "    if sentiment_score >= 0.05:\n",
    "        return \"Positive\"\n",
    "    elif sentiment_score <= -0.05:\n",
    "        return \"Negative\"\n",
    "    else:\n",
    "        return \"Neutral\""
   ]
  },
  {
   "cell_type": "markdown",
   "id": "a31735ae",
   "metadata": {},
   "source": [
    "# Splitting the dataset to recommand movie to user"
   ]
  },
  {
   "cell_type": "code",
   "execution_count": null,
   "id": "dffbbcff",
   "metadata": {},
   "outputs": [],
   "source": [
    "# Define entertainment suggestion function based on sentiment\n",
    "def suggest_movie_based_on_sentiment(sentiment):\n",
    "    if sentiment == \"Positive\":\n",
    "        comedy_movies = movies_df[movies_df['genre'] == 'Comedy']\n",
    "        animation_movies = movies_df[movies_df['genre'] == 'Animation']\n",
    "        suitable_movies = pd.concat([comedy_movies, animation_movies])\n",
    "    elif sentiment == \"Negative\":\n",
    "        suitable_movies = movies_df[movies_df['genre'] == 'Horror']\n",
    "    else:\n",
    "        action_movies = movies_df[movies_df['genre'] == 'Action']\n",
    "        biography_movies = movies_df[movies_df['genre'] == 'Biography']\n",
    "        suitable_movies = pd.concat([action_movies, biography_movies])\n",
    "\n",
    "    if not suitable_movies.empty:\n",
    "        selected_movie = suitable_movies.sample(1)\n",
    "        movie_name = selected_movie['name'].values[0]\n",
    "        release_year = selected_movie['year'].values[0]\n",
    "        return f\"{movie_name} Released in {release_year}\"\n",
    "    else:\n",
    "        return f\"No suitable movies found for {sentiment.lower()} sentiment.\"\n"
   ]
  },
  {
   "cell_type": "markdown",
   "id": "fa81e3e3",
   "metadata": {},
   "source": [
    "# Defining the functtion to take user commands as a query"
   ]
  },
  {
   "cell_type": "code",
   "execution_count": null,
   "id": "904ebae1",
   "metadata": {},
   "outputs": [],
   "source": [
    "def takeCommand():\n",
    "    r = sr.Recognizer()\n",
    "\n",
    "    with sr.Microphone() as source:\n",
    "\n",
    "        print(\"Listening...\")\n",
    "        r.pause_threshold = 0.5\n",
    "        audio = r.listen(source)\n",
    "\n",
    "    try:\n",
    "        print(\"Recognizing...\")\n",
    "        query = r.recognize_google(audio, language='en-in')\n",
    "        print(f\"User said: {query}\\n\")\n",
    "\n",
    "    except Exception as e:\n",
    "        print(e)\n",
    "        print(\"Unable to Recognize your voice.\")\n",
    "        return \"None\"\n",
    "    return query"
   ]
  },
  {
   "cell_type": "markdown",
   "id": "10a4fdb7",
   "metadata": {},
   "source": [
    "# defining the wikipedia section with summerrization and question answering model\n"
   ]
  },
  {
   "cell_type": "code",
   "execution_count": null,
   "id": "4d09175e",
   "metadata": {},
   "outputs": [],
   "source": [
    "def wikipedia_sec():\n",
    "    query = takeCommand()\n",
    "    speak('Searching Wikipedia...')\n",
    "    try:\n",
    "        page = wikipedia.page(query)\n",
    "        speak(\"According to Wikipedia\")\n",
    "\n",
    "        # Use the summarization and question-answering models\n",
    "        summary = generate_summary(page.content)\n",
    "        speak(\"Summarizing the content fetched from wikipedia\")\n",
    "        speak(summary)\n",
    "\n",
    "        while True:\n",
    "            speak(\"Do you have any questions about this topic? (Enter 'exit' to stop)\")\n",
    "            question = takeCommand()\n",
    "            if question.lower() == 'exit':\n",
    "                break\n",
    "            if question:\n",
    "                answer = answer_question(question, page.content)\n",
    "                speak(\"Answer:\")\n",
    "                speak(answer)\n",
    "            else:\n",
    "                speak(\"No questions detected or invalid question.\")\n",
    "\n",
    "    except wikipedia.exceptions.DisambiguationError as e:\n",
    "        print(\"The query is ambiguous, can you be more specific?\")\n",
    "    except wikipedia.exceptions.PageError:\n",
    "        print(\"No Wikipedia page found for the query.\")\n",
    "    except Exception as e:\n",
    "        print(f\"An error occurred: {e}\")"
   ]
  },
  {
   "cell_type": "markdown",
   "id": "ec0d0341",
   "metadata": {},
   "source": [
    "# Defining the function to fetch the news from the website through API key"
   ]
  },
  {
   "cell_type": "code",
   "execution_count": null,
   "id": "4d8ed550",
   "metadata": {},
   "outputs": [],
   "source": [
    "def NewsFromBBC():\n",
    "     \n",
    "    query_params = {\n",
    "      \"source\": \"bbc-news\",\n",
    "      \"sortBy\": \"top\",\n",
    "      \"apiKey\": \"eb4d559681bb47279c97f3e936e5c421\"\n",
    "    }\n",
    "    main_url = \" https://newsapi.org/v1/articles\"\n",
    " \n",
    "    # fetching data in json format\n",
    "    res = requests.get(main_url, params=query_params)\n",
    "    open_bbc_page = res.json()\n",
    " \n",
    "    # getting all articles in a string article\n",
    "    article = open_bbc_page[\"articles\"]\n",
    " \n",
    "    # empty list which will \n",
    "    # contain all trending news\n",
    "    results = []\n",
    "     \n",
    "    for ar in article:\n",
    "        results.append(ar[\"title\"])\n",
    "         \n",
    "    for i in range(len(results)):\n",
    "         \n",
    "        # printing all trending news\n",
    "        X=print(i + 1, results[i])\n",
    " \n",
    "    from win32com.client import Dispatch\n",
    "    speak = Dispatch(\"SAPI.Spvoice\")\n",
    "    speak.Speak(results)  "
   ]
  },
  {
   "cell_type": "markdown",
   "id": "cf371256",
   "metadata": {},
   "source": [
    "# Defning the function where we created a while loop for continuous interaction with user"
   ]
  },
  {
   "cell_type": "code",
   "execution_count": null,
   "id": "61d7da20",
   "metadata": {},
   "outputs": [],
   "source": [
    "def assistant():\n",
    "    global Text1\n",
    "    Text1 = \"\"\n",
    "    while True:\n",
    "        asname = (\"zahra\")\n",
    "        \n",
    "        query = takeCommand().lower()\n",
    "\n",
    "        \n",
    "        if 'wikipedia' in query:\n",
    "            wikipedia_sec()\n",
    "            \n",
    "        elif 'suggest' in query:\n",
    "            speak('Yes, of course, I can help you suggest movies according to your mood.')\n",
    "            speak(\"How was your day\")\n",
    "            user_input_text = takeCommand()\n",
    "            user_sentiment = perform_sentiment_analysis(user_input_text)\n",
    "            suggested_movie = suggest_movie_based_on_sentiment(user_sentiment)\n",
    "            speak(\"I think you are in\")\n",
    "            speak(user_sentiment)\n",
    "            speak('mood')\n",
    "            speak(\"i suggest you to see\")\n",
    "            speak(suggested_movie)\n",
    "            Text1 += suggested_movie + \"\\n\"\n",
    "        \n",
    "        elif 'open youtube' in query:\n",
    "            speak(\"Here you go to Youtube\\n\")\n",
    "            webbrowser.open(\"youtube.com\")\n",
    "            \n",
    "        elif 'open google' in query:\n",
    "            speak(\"Here you go to Google\\n\")\n",
    "            webbrowser.open(\"google.com\")\n",
    "            \n",
    "\n",
    "        elif 'open stackoverflow' in query:\n",
    "            speak(\"Here you go to Stack Over flow.Happy coding\")\n",
    "            webbrowser.open(\"stackoverflow.com\")\n",
    "\n",
    "        elif 'play music' in query or \"play song\" in query:\n",
    "            speak(\"Here you go with music\")\n",
    "            song = query.replace('play', '')\n",
    "            speak('playing' + song)\n",
    "            pywhatkit.playonyt(song)\n",
    "\n",
    "        elif 'time' in query:\n",
    "            time = datetime.datetime.now().strftime('%I:%M %p')\n",
    "            speak(\"current time is\" + time)\n",
    "            \n",
    "\n",
    "        elif 'how r u' in query:\n",
    "            speak(\"I am fine, Thank you\")\n",
    "            speak(\"How are you, Dear\")\n",
    "\n",
    "        elif 'fine' in query:\n",
    "            speak(\"It's good to know that your fine\")\n",
    "\n",
    "        elif \"change my name to\" in query:\n",
    "            query = query.replace(\"change my name to\", \"\")\n",
    "            assname = query\n",
    "\n",
    "        elif \"change name\" in query:\n",
    "            speak(\"What would you like to call me, Dear \")\n",
    "            asname = takeCommand()\n",
    "            speak(\"Thanks for naming me\")\n",
    "\n",
    "        elif \"your name\" in query:\n",
    "            speak(\"My friends call me\")\n",
    "            speak(asname)\n",
    "            Text1 += \"My friends call me \" + asname + \"\\n\"\n",
    "\n",
    "        elif 'exit' in query:\n",
    "            speak(\"Thanks for giving me your time\")\n",
    "            break\n",
    "\n",
    "        elif \"who made you\" in query or \"who created you\" in query:\n",
    "            speak(\"I have been created by tausif as a mini project\")\n",
    "\n",
    "        elif 'search' in query or 'play' in query:\n",
    "            query = query.replace(\"search\", \"\")\n",
    "            query = query.replace(\"play\", \"\")\n",
    "            webbrowser.open(query)\n",
    "\n",
    "        elif \"who i am\" in query:\n",
    "            speak(\"If you talk then definitely your human.\")\n",
    "\n",
    "        elif \"why you came to world\" in query:\n",
    "            speak(\"Thanks to tausif. I am just for the \")\n",
    "\n",
    "        elif \"who are you\" in query:\n",
    "            speak(\"I am your virtual assistant created by Tausif\")\n",
    "\n",
    "        elif 'reason for you' in query:\n",
    "            speak(\"I was created as a Mini project by Tausif \")\n",
    "\n",
    "        elif 'change background' in query:\n",
    "            ctypes.windll.user32.SystemParametersInfoW(20,0,\"Location of wallpaper\",0)\n",
    "            speak(\"Background changed successfully\")\n",
    "            Txet1 += \"Background changed successfully\\n\"\n",
    "\n",
    "        elif 'news' in query:\n",
    "            NewsFromBBC()\n",
    "            time.sleep(2)\n",
    "\n",
    "        elif 'lock window' in query:\n",
    "            speak(\"locking the device\")\n",
    "            ctypes.windll.user32.LockWorkStation()\n",
    "\n",
    "        elif 'shutdown system' in query:\n",
    "            speak(\"Hold On a Sec ! Your system is on its way to shut down\")\n",
    "            subprocess32.call('shutdown / p /f')\n",
    "\n",
    "        elif \"don't listen\" in query or \"stop listening\" in query:\n",
    "            speak(\"for how much time you want to stop zara from listening commands\")\n",
    "            a = int(takeCommand())\n",
    "            time.sleep(a)\n",
    "            Text1+=a\n",
    "            \n",
    "        elif \"where is\" in query:\n",
    "            query = query.replace(\"where is\", \"\")\n",
    "            location = query\n",
    "            speak(\"User asked to Locate\")\n",
    "            speak(location)\n",
    "            webbrowser.open(\"https://www.google.nl / maps / place/\" + location + \"\")\n",
    "\n",
    "        elif \"camera\" in query or \"take a photo\" in query:\n",
    "            ec.capture(0, \"Jarvis Camera \", \"img.jpg\")\n",
    "\n",
    "        elif \"restart\" in query:\n",
    "            subprocess32.call([\"shutdown\", \"/r\"])\n",
    "\n",
    "        elif \"sleep\" in query:\n",
    "            speak(\"sleeping...\")\n",
    "            subprocess32.call(\"shutdown / h\")\n",
    "\n",
    "        elif \"log off\" in query or \"sign out\" in query:\n",
    "            speak(\"Make sure all the application are closed before sign-out\")\n",
    "            time.sleep(5)\n",
    "            subprocess32.call([\"shutdown\", \"/l\"])\n",
    "\n",
    "        elif \"write a note\" in query:\n",
    "            speak(\"What should i write, sir\")\n",
    "            note = takeCommand()\n",
    "            file = open('jarvis.txt', 'w')\n",
    "            file.write(note)\n",
    "\n",
    "        elif \"show note\" in query:\n",
    "            speak(\"Showing Notes\")\n",
    "            file = open(\"jarvis.txt\", \"r\")\n",
    "            Text1 += file.read() + \"\\n\"\n",
    "            speak(file.read(6))\n",
    "            \n",
    "        elif \"zara\" in query:\n",
    "            wishMe()\n",
    "            speak(\"zahra in your service Dear\")\n",
    "            speak(uname)\n",
    "\n",
    "        elif \"wikipedia\" in query:\n",
    "            webbrowser.open(\"wikipedia.com\")\n",
    "\n",
    "        elif \"morning\" in query:\n",
    "            speak(\"A warm\" + query)\n",
    "            speak(\"How are you\")\n",
    "            \n",
    "    return Text1\n",
    "    "
   ]
  },
  {
   "cell_type": "markdown",
   "id": "51f7d794",
   "metadata": {},
   "source": [
    "# Creating a GUI for user friendly ineraction with user "
   ]
  },
  {
   "cell_type": "code",
   "execution_count": null,
   "id": "8f3ef197",
   "metadata": {},
   "outputs": [],
   "source": [
    "from tkinter import *\n",
    "import os\n",
    "\n",
    "Text1 = ''\n",
    "\n",
    "def update_gui():\n",
    "    user_name_input_area.delete(1.0, END)  # Clear existing content\n",
    "    user_name_input_area.insert(INSERT, Text1)  # Update with new content\n",
    "    root.after(10, update_gui)  # Schedule the update after 100 milliseconds\n",
    "\n",
    "def assistant_logic():\n",
    "    global Text1\n",
    "    wishMe()\n",
    "    username()\n",
    "    root.after(10, update_gui)  # Schedule the initial update\n",
    "    assistant()\n",
    "\n",
    "# Create a tkinter window\n",
    "root = Tk()\n",
    "\n",
    "# Open window having dimension 500x500 (smaller size)\n",
    "root.geometry('650x500')\n",
    "\n",
    "# Load the background image\n",
    "bg = PhotoImage(file=\"virtual-assistant.png\", master=root)\n",
    "\n",
    "# Calculate the center position for the background image\n",
    "\n",
    "bg_x = (900 - bg.width()) // 2\n",
    "bg_y = (900 - bg.height()) // 2\n",
    "\n",
    "# Show image using label\n",
    "label1 = Label(root, image=bg)\n",
    "label1.place(x=bg_x, y=0)\n",
    "\n",
    "# Create a Button\n",
    "btn = Button(root, text='~Speak~', command=assistant_logic)\n",
    "\n",
    "# Create a Text area\n",
    "user_name_input_area = Text(root, width=30, height=31)  # Adjusted width and height\n",
    "user_name_input_area.place(x=0, y=0)\n",
    "\n",
    "btn.place(x=250, y=470)\n",
    "\n",
    "# Set the position of the button on the top of the window.\n",
    "root.title(\"Zahra - A Virtual Personal Assistant\")\n",
    "root.mainloop()\n"
   ]
  },
  {
   "cell_type": "code",
   "execution_count": null,
   "id": "80da1725",
   "metadata": {},
   "outputs": [],
   "source": []
  },
  {
   "cell_type": "code",
   "execution_count": null,
   "id": "33f03d67",
   "metadata": {},
   "outputs": [],
   "source": []
  }
 ],
 "metadata": {
  "kernelspec": {
   "display_name": "Python 3 (ipykernel)",
   "language": "python",
   "name": "python3"
  },
  "language_info": {
   "codemirror_mode": {
    "name": "ipython",
    "version": 3
   },
   "file_extension": ".py",
   "mimetype": "text/x-python",
   "name": "python",
   "nbconvert_exporter": "python",
   "pygments_lexer": "ipython3",
   "version": "3.11.5"
  }
 },
 "nbformat": 4,
 "nbformat_minor": 5
}
